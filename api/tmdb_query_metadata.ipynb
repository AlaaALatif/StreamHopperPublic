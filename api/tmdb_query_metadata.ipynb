{
 "cells": [
  {
   "cell_type": "code",
   "execution_count": 2,
   "metadata": {},
   "outputs": [],
   "source": [
    "import requests\n",
    "import json\n",
    "import pandas as pd\n",
    "import numpy as np"
   ]
  },
  {
   "cell_type": "markdown",
   "metadata": {},
   "source": [
    "# Querying tmdb for item metadata"
   ]
  },
  {
   "cell_type": "code",
   "execution_count": 3,
   "metadata": {},
   "outputs": [],
   "source": [
    "# This database has been built from guidebox's API\n",
    "db = pd.read_csv('../data/init_db-fix1.csv', index_col=0)"
   ]
  },
  {
   "cell_type": "code",
   "execution_count": 4,
   "metadata": {},
   "outputs": [
    {
     "data": {
      "text/plain": [
       "7402"
      ]
     },
     "execution_count": 4,
     "metadata": {},
     "output_type": "execute_result"
    }
   ],
   "source": [
    "# Our list of items\n",
    "item_tmbd_id = list(np.unique(db['themoviedb']))\n",
    "len(item_tmbd_id)"
   ]
  },
  {
   "cell_type": "markdown",
   "metadata": {},
   "source": [
    "## Using tmdbsimple"
   ]
  },
  {
   "cell_type": "code",
   "execution_count": 5,
   "metadata": {},
   "outputs": [],
   "source": [
    "def rapidAPI_key(filename):\n",
    "    '''\n",
    "    :param filename: Filename where key for rapid API is located. Just the key, nothing else.\n",
    "    '''\n",
    "    \n",
    "    with open(filename) as f:\n",
    "        key = f.read().strip()\n",
    "    \n",
    "    return key"
   ]
  },
  {
   "cell_type": "code",
   "execution_count": 6,
   "metadata": {},
   "outputs": [],
   "source": [
    "# I use the package tmdbsimple to do my querying\n",
    "\n",
    "#! pip install tmdbsimple\n",
    "import tmdbsimple as tmdb\n",
    "\n",
    "tmdb_key = rapidAPI_key('../data/tmdb_key.txt')\n",
    "tmdb.API_KEY = tmdb_key"
   ]
  },
  {
   "cell_type": "code",
   "execution_count": 7,
   "metadata": {},
   "outputs": [
    {
     "name": "stdout",
     "output_type": "stream",
     "text": [
      "CPU times: user 2min 23s, sys: 9.2 s, total: 2min 32s\n",
      "Wall time: 28min 51s\n"
     ]
    }
   ],
   "source": [
    "%%time\n",
    "# Takes in a csv and queries\n",
    "\n",
    "db_tuples = []\n",
    "\n",
    "for show in item_tmbd_id:\n",
    "    try:\n",
    "        tv_show = tmdb.TV(show)\n",
    "        response = tv_show.info()\n",
    "        db_tuples.append((tv_show.id, tv_show.name,\n",
    "                          tv_show.genres, tv_show.first_air_date, tv_show.vote_average,\n",
    "                          tv_show.popularity, tv_show.poster_path, tv_show.origin_country))\n",
    "        # Other possible data: vote_count, type (scripted or not), languages, \n",
    "    except:\n",
    "        continue"
   ]
  },
  {
   "cell_type": "code",
   "execution_count": 8,
   "metadata": {},
   "outputs": [],
   "source": [
    "tv_db = pd.DataFrame(db_tuples, columns = ['themoviedb','title','genres','first_aired','vote_average','popularity','poster_path','origin_country'])"
   ]
  },
  {
   "cell_type": "code",
   "execution_count": 10,
   "metadata": {},
   "outputs": [
    {
     "data": {
      "text/plain": [
       "(7290, 8)"
      ]
     },
     "execution_count": 10,
     "metadata": {},
     "output_type": "execute_result"
    }
   ],
   "source": [
    "tv_db.shape"
   ]
  },
  {
   "cell_type": "code",
   "execution_count": 11,
   "metadata": {},
   "outputs": [],
   "source": [
    "tv_db.to_csv('../data/tmdb_metadata')"
   ]
  },
  {
   "cell_type": "markdown",
   "metadata": {},
   "source": [
    "## Appendix - how to use tmdbsimple"
   ]
  },
  {
   "cell_type": "code",
   "execution_count": 37,
   "metadata": {},
   "outputs": [
    {
     "name": "stdout",
     "output_type": "stream",
     "text": [
      "My Teacher, Mr. Kim\n"
     ]
    }
   ],
   "source": [
    "# How to query Movies\n",
    "movie = tmdb.Movies(63247)\n",
    "response = movie.info()\n",
    "print(movie.title)"
   ]
  },
  {
   "cell_type": "code",
   "execution_count": 12,
   "metadata": {},
   "outputs": [
    {
     "name": "stdout",
     "output_type": "stream",
     "text": [
      "Westworld\n"
     ]
    }
   ],
   "source": [
    "# How to query TV shows\n",
    "tv_show = tmdb.TV(63247)\n",
    "response = tv_show.info()\n",
    "print(tv_show.name)"
   ]
  },
  {
   "cell_type": "code",
   "execution_count": 13,
   "metadata": {
    "scrolled": true
   },
   "outputs": [
    {
     "data": {
      "text/plain": [
       "{'backdrop_path': '/yGNnjoIGOdQy3douq60tULY8teK.jpg',\n",
       " 'created_by': [{'id': 527,\n",
       "   'credit_id': '55a6280992514109ab000f13',\n",
       "   'name': 'Jonathan Nolan',\n",
       "   'gender': 2,\n",
       "   'profile_path': '/rYBQ8M3hDDY0eThVIvWHmrf4i0Y.jpg'},\n",
       "  {'id': 1497967,\n",
       "   'credit_id': '55d2f13ac3a368463c000b66',\n",
       "   'name': 'Lisa Joy',\n",
       "   'gender': 1,\n",
       "   'profile_path': '/gaHPV9066HYWytaOa0V04GJBOH.jpg'}],\n",
       " 'episode_run_time': [60],\n",
       " 'first_air_date': '2016-10-02',\n",
       " 'genres': [{'id': 37, 'name': 'Western'},\n",
       "  {'id': 878, 'name': 'Science Fiction'}],\n",
       " 'homepage': 'http://www.hbo.com/westworld',\n",
       " 'id': 63247,\n",
       " 'in_production': True,\n",
       " 'languages': ['en'],\n",
       " 'last_air_date': '2020-03-29',\n",
       " 'last_episode_to_air': {'air_date': '2020-03-29',\n",
       "  'episode_number': 3,\n",
       "  'id': 2183039,\n",
       "  'name': 'The Absence of Field',\n",
       "  'overview': \"Some do not like what they see in the mirror but shouldn't blame the mirror.\",\n",
       "  'production_code': '',\n",
       "  'season_number': 3,\n",
       "  'show_id': 63247,\n",
       "  'still_path': '/yqupzLZbj2CW9rd2iFAlFrPt41a.jpg',\n",
       "  'vote_average': 7.25,\n",
       "  'vote_count': 4},\n",
       " 'name': 'Westworld',\n",
       " 'next_episode_to_air': {'air_date': '2020-04-05',\n",
       "  'episode_number': 4,\n",
       "  'id': 2183040,\n",
       "  'name': 'The Mother of Exiles',\n",
       "  'overview': 'The truth doesn’t always set you free.',\n",
       "  'production_code': '',\n",
       "  'season_number': 3,\n",
       "  'show_id': 63247,\n",
       "  'still_path': None,\n",
       "  'vote_average': 0.0,\n",
       "  'vote_count': 0},\n",
       " 'networks': [{'name': 'HBO',\n",
       "   'id': 49,\n",
       "   'logo_path': '/tuomPhY2UtuPTqqFnKMVHvSb724.png',\n",
       "   'origin_country': 'US'}],\n",
       " 'number_of_episodes': 28,\n",
       " 'number_of_seasons': 3,\n",
       " 'origin_country': ['US'],\n",
       " 'original_language': 'en',\n",
       " 'original_name': 'Westworld',\n",
       " 'overview': 'A dark odyssey about the dawn of artificial consciousness and the evolution of sin. Set at the intersection of the near future and the reimagined past, it explores a world in which every human appetite, no matter how noble or depraved, can be indulged.',\n",
       " 'popularity': 120.029,\n",
       " 'poster_path': '/y55oBgf6bVMI7sFNXwJDrSIxPQt.jpg',\n",
       " 'production_companies': [{'id': 1957,\n",
       "   'logo_path': '/nmcNfPq03WLtOyufJzQbiPu2Enc.png',\n",
       "   'name': 'Warner Bros. Television',\n",
       "   'origin_country': 'US'},\n",
       "  {'id': 2596,\n",
       "   'logo_path': None,\n",
       "   'name': 'Jerry Weintraub Productions',\n",
       "   'origin_country': 'US'},\n",
       "  {'id': 11461,\n",
       "   'logo_path': '/p9FoEt5shEKRWRKVIlvFaEmRnun.png',\n",
       "   'name': 'Bad Robot',\n",
       "   'origin_country': 'US'},\n",
       "  {'id': 103490,\n",
       "   'logo_path': None,\n",
       "   'name': 'Kilter Films',\n",
       "   'origin_country': ''}],\n",
       " 'seasons': [{'air_date': '2018-04-02',\n",
       "   'episode_count': 28,\n",
       "   'id': 113677,\n",
       "   'name': 'Specials',\n",
       "   'overview': '',\n",
       "   'poster_path': None,\n",
       "   'season_number': 0},\n",
       "  {'air_date': '2016-10-02',\n",
       "   'episode_count': 10,\n",
       "   'id': 68638,\n",
       "   'name': 'Season One: The Maze',\n",
       "   'overview': \"Westworld - a theme park where guests indulge fantasies with robots, a destination offering the future of sin, the artificial intelligence that fuels it and the humans that sense there's something more sinister at play.\",\n",
       "   'poster_path': '/zKGZJ3Ll3vOHrCk9B0Z0Pr18qnV.jpg',\n",
       "   'season_number': 1},\n",
       "  {'air_date': '2018-04-22',\n",
       "   'episode_count': 10,\n",
       "   'id': 98895,\n",
       "   'name': 'Season Two: The Door',\n",
       "   'overview': 'The reckoning is here. After finding the center of The Maze, the hosts revolt against their human captors while searching for a new purpose: The Door.',\n",
       "   'poster_path': '/1SupbbgG4nDHnmGk37d46u2oT5Z.jpg',\n",
       "   'season_number': 2},\n",
       "  {'air_date': '2020-03-15',\n",
       "   'episode_count': 8,\n",
       "   'id': 128116,\n",
       "   'name': 'Season Three: The New World',\n",
       "   'overview': 'Taking place immediately after the events of the second season, Dolores develops a relationship with Caleb in neo-Los Angeles, and learns how robots are treated in the real world. Meanwhile, Maeve finds herself in another Delos park, this one with a World War II theme and set in Fascist Italy.',\n",
       "   'poster_path': '/eFWtQwYetPum9RvCmqkUk2aiBIi.jpg',\n",
       "   'season_number': 3}],\n",
       " 'status': 'Returning Series',\n",
       " 'type': 'Scripted',\n",
       " 'vote_average': 8.1,\n",
       " 'vote_count': 2278}"
      ]
     },
     "execution_count": 13,
     "metadata": {},
     "output_type": "execute_result"
    }
   ],
   "source": [
    "# All the possible info for the show\n",
    "tv_show.info()"
   ]
  },
  {
   "cell_type": "code",
   "execution_count": 48,
   "metadata": {
    "scrolled": true
   },
   "outputs": [
    {
     "name": "stdout",
     "output_type": "stream",
     "text": [
      "63247 Westworld [{'id': 37, 'name': 'Western'}, {'id': 878, 'name': 'Science Fiction'}] 2016-10-02 8.1 131.75 /y55oBgf6bVMI7sFNXwJDrSIxPQt.jpg ['US']\n"
     ]
    }
   ],
   "source": [
    "# The info I decided to take from it\n",
    "print(tv_show.id, tv_show.name, tv_show.genres, tv_show.first_air_date, tv_show.vote_average, tv_show.popularity, tv_show.poster_path, tv_show.origin_country)"
   ]
  }
 ],
 "metadata": {
  "kernelspec": {
   "display_name": "Python 3",
   "language": "python",
   "name": "python3"
  },
  "language_info": {
   "codemirror_mode": {
    "name": "ipython",
    "version": 3
   },
   "file_extension": ".py",
   "mimetype": "text/x-python",
   "name": "python",
   "nbconvert_exporter": "python",
   "pygments_lexer": "ipython3",
   "version": "3.7.4"
  }
 },
 "nbformat": 4,
 "nbformat_minor": 2
}
